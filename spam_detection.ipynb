{
  "nbformat": 4,
  "nbformat_minor": 0,
  "metadata": {
    "colab": {
      "provenance": []
    },
    "kernelspec": {
      "name": "python3",
      "display_name": "Python 3"
    },
    "language_info": {
      "name": "python"
    }
  },
  "cells": [
    {
      "cell_type": "markdown",
      "source": [
        "Detection of spam using Logistic regression model"
      ],
      "metadata": {
        "id": "rHT9veKQdW7j"
      }
    },
    {
      "cell_type": "code",
      "source": [
        "import pandas as pd\n",
        "from sklearn.model_selection import train_test_split\n",
        "from sklearn.linear_model import LogisticRegression\n",
        "from sklearn.impute import SimpleImputer\n",
        "\n",
        "# Assuming 'df' is your DataFrame\n",
        "x_train, x_test, y_train, y_test = train_test_split(df.v2, df.v1, test_size=0.2, random_state=42)\n",
        "\n",
        "# Reshape x_train and x_test to be 2D arrays\n",
        "x_train = x_train.values.reshape(-1, 1)\n",
        "x_test = x_test.values.reshape(-1, 1)\n",
        "\n",
        "# Reshape y_train to be a 2D array, if it's not already\n",
        "y_train = y_train.values.reshape(-1, 1)\n",
        "\n",
        "# Handle missing values in x_train and x_test using imputation\n",
        "imputer = SimpleImputer(strategy='mean')  # Replace NaNs with the mean of the column\n",
        "x_train_imputed = imputer.fit_transform(x_train)\n",
        "# Impute missing values in x_test as well, using the imputer fitted on x_train\n",
        "x_test_imputed = imputer.transform(x_test)\n",
        "\n",
        "# Create and fit the model\n",
        "Model = LogisticRegression()\n",
        "Model.fit(x_train_imputed, y_train)\n",
        "\n",
        "# Now predict using the imputed x_test data\n",
        "y_pred = Model.predict(x_test_imputed)\n",
        "\n",
        "accuracy = accuracy_score(y_test, y_pred)\n",
        "conf_matrix = confusion_matrix(y_test, y_pred)\n",
        "class_report = classification_report(y_test, y_pred)\n",
        "accuracy\n",
        "conf_matrix\n",
        "class_report"
      ],
      "metadata": {
        "id": "xHi2Bs1D3rsu",
        "outputId": "abca464d-70da-4a2f-a430-73724179b319",
        "colab": {
          "base_uri": "https://localhost:8080/",
          "height": 212
        }
      },
      "execution_count": 62,
      "outputs": [
        {
          "output_type": "stream",
          "name": "stderr",
          "text": [
            "/usr/local/lib/python3.10/dist-packages/sklearn/utils/validation.py:1143: DataConversionWarning: A column-vector y was passed when a 1d array was expected. Please change the shape of y to (n_samples, ), for example using ravel().\n",
            "  y = column_or_1d(y, warn=True)\n",
            "/usr/local/lib/python3.10/dist-packages/sklearn/metrics/_classification.py:1344: UndefinedMetricWarning: Precision and F-score are ill-defined and being set to 0.0 in labels with no predicted samples. Use `zero_division` parameter to control this behavior.\n",
            "  _warn_prf(average, modifier, msg_start, len(result))\n",
            "/usr/local/lib/python3.10/dist-packages/sklearn/metrics/_classification.py:1344: UndefinedMetricWarning: Precision and F-score are ill-defined and being set to 0.0 in labels with no predicted samples. Use `zero_division` parameter to control this behavior.\n",
            "  _warn_prf(average, modifier, msg_start, len(result))\n",
            "/usr/local/lib/python3.10/dist-packages/sklearn/metrics/_classification.py:1344: UndefinedMetricWarning: Precision and F-score are ill-defined and being set to 0.0 in labels with no predicted samples. Use `zero_division` parameter to control this behavior.\n",
            "  _warn_prf(average, modifier, msg_start, len(result))\n"
          ]
        },
        {
          "output_type": "execute_result",
          "data": {
            "text/plain": [
              "'              precision    recall  f1-score   support\\n\\n         ham       0.86      1.00      0.92       889\\n        spam       0.00      0.00      0.00       145\\n\\n    accuracy                           0.86      1034\\n   macro avg       0.43      0.50      0.46      1034\\nweighted avg       0.74      0.86      0.79      1034\\n'"
            ],
            "application/vnd.google.colaboratory.intrinsic+json": {
              "type": "string"
            }
          },
          "metadata": {},
          "execution_count": 62
        }
      ]
    }
  ]
}